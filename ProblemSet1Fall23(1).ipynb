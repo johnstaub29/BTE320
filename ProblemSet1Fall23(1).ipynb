{
  "nbformat": 4,
  "nbformat_minor": 0,
  "metadata": {
    "colab": {
      "provenance": [],
      "include_colab_link": true
    },
    "kernelspec": {
      "name": "python3",
      "display_name": "Python 3"
    },
    "language_info": {
      "name": "python"
    }
  },
  "cells": [
    {
      "cell_type": "markdown",
      "metadata": {
        "id": "view-in-github",
        "colab_type": "text"
      },
      "source": [
        "<a href=\"https://colab.research.google.com/github/johnstaub29/BTE320/blob/main/ProblemSet1Fall23(1).ipynb\" target=\"_parent\"><img src=\"https://colab.research.google.com/assets/colab-badge.svg\" alt=\"Open In Colab\"/></a>"
      ]
    },
    {
      "cell_type": "markdown",
      "source": [
        "# Problem Set 2"
      ],
      "metadata": {
        "id": "mqKVIuY-mxNU"
      }
    },
    {
      "cell_type": "markdown",
      "source": [
        "## Assignment 1: Quality Control (7 points)\n",
        "\n",
        "A quality control manager would like to find the average weight of a list of weights. Prior experience indicates that the first two measures are atypical, and the practice is to exclude these from the average calculation.\n",
        "\n",
        "Write a program that calculates the average of a list of numbers that given as inputs from the user, excluding the first two values.\n",
        "\n",
        "For your program, you must define and use the following functions:\n",
        "- `getValues(n)`: Prompt the user for `n` values, returns the list\n",
        "- `calcAverage(alist)`: Calculates the average from the list"
      ],
      "metadata": {
        "id": "-RSYW1jVm08n"
      }
    },
    {
      "cell_type": "code",
      "execution_count": null,
      "metadata": {
        "id": "AqbgJkgNmvQw",
        "colab": {
          "base_uri": "https://localhost:8080/"
        },
        "outputId": "e96776ff-ad32-4241-f3a0-f2c142ebc7a4"
      },
      "outputs": [
        {
          "output_type": "stream",
          "name": "stdout",
          "text": [
            "Please enter the number of values:\n",
            "5\n",
            "Please enter value 1:\n",
            "1\n",
            "Please enter value 2:\n",
            "2\n",
            "Please enter value 3:\n",
            "3\n",
            "Please enter value 4:\n",
            "4\n",
            "Please enter value 5:\n",
            "5\n",
            "4.0\n"
          ]
        }
      ],
      "source": [
        "def getValues(n):\n",
        "    alist = []\n",
        "    print(\"Please enter the number of values:\")\n",
        "    n = int(input())\n",
        "    for i in range(n):\n",
        "        print(f\"Please enter value {i+1}:\")\n",
        "        alist.append(float(input()))\n",
        "    return alist\n",
        "\n",
        "def calcAverage(alist):\n",
        "    return sum(alist[2:])/len(alist[2:])\n",
        "\n",
        "def main():\n",
        "    print(calcAverage(getValues(n)))\n",
        "\n",
        "main()\n"
      ]
    },
    {
      "cell_type": "markdown",
      "source": [
        "## Assignment 2: Country Statistics Lookup-Multiple Measures (6 points)\n",
        "\n",
        "Assume a program begins with the statement:\n",
        "\n",
        "```python\n",
        "allData = { # dictionary of values for countries\n",
        "    'US': {'pop':325.7, 'gdp': 19.39, 'ccy': 'USD', 'fx':  1.0},\n",
        "    'CA': {'pop': 36.5, 'gdp':  1.65, 'ccy': 'CAD', 'fx':  1.35},\n",
        "    'MX': {'pop':129.2, 'gdp':  1.15, 'ccy': 'MXN', 'fx': 19.68}\n",
        "    }\n",
        "```\n",
        "\n",
        "Write subsequent statements that (in a loop) prompt the user for a country code (`US`, `CA`, or `MX`), then prompt for a measure name (`pop`, `gdp`, `ccy`, or `fx`), then look up in the above dictionary for the corresponding value, and display it.\n",
        "\n",
        "Example run:\n",
        "```\n",
        "Please enter a country code: CA\n",
        "Please enter a statistic: pop\n",
        "CA pop = 36.5\n",
        "```\n",
        "\n",
        "Your program should handle the cases where a user-entered country code or measure name is not found."
      ],
      "metadata": {
        "id": "QFO0Kzx8ncnv"
      }
    },
    {
      "cell_type": "code",
      "source": [
        "allData = { # dictionary of values for countries\n",
        "    'US': {'pop':325.7, 'gdp': 19.39, 'ccy': 'USD', 'fx':  1.0},\n",
        "    'CA': {'pop': 36.5, 'gdp':  1.65, 'ccy': 'CAD', 'fx':  1.35},\n",
        "    'MX': {'pop':129.2, 'gdp':  1.15, 'ccy': 'MXN', 'fx': 19.68}\n",
        "    }\n",
        "\n",
        "def main():\n",
        "  country = input(\"Please enter a country code: \")\n",
        "  while (country not in allData):\n",
        "    print(\"Invalid country code\")\n",
        "    country = input(\"Please enter a country code: \")\n",
        "  if(country in allData):\n",
        "      measure = input(\"Please enter a statistic: \")\n",
        "      while (measure not in allData[country]):\n",
        "        print(\"Invalid statistic\")\n",
        "        measure = input(\"Please enter a statistic: \")\n",
        "      if(measure in allData[country]):\n",
        "          print(f\"{country} {measure} = {allData[country][measure]}\")\n",
        "\n",
        "main()\n",
        "\n"
      ],
      "metadata": {
        "id": "NZFjRINKowEW",
        "colab": {
          "base_uri": "https://localhost:8080/"
        },
        "collapsed": true,
        "outputId": "ab5786b2-2e2f-4771-ec90-073cb1ced663"
      },
      "execution_count": null,
      "outputs": [
        {
          "output_type": "stream",
          "name": "stdout",
          "text": [
            "Please enter a country code: MX\n",
            "Please enter a statistic: ccy\n",
            "MX ccy = MXN\n"
          ]
        }
      ]
    },
    {
      "cell_type": "markdown",
      "source": [
        "## Assignment 3: Parking Garage (6 points)\n",
        "\n",
        "Write a program to compute the fee for parking in a garage for a number of hours.\n",
        "\n",
        "The program should:\n",
        "- Prompt the user for how many hours parked\n",
        "- Calculate the fee based on the following rules:\n",
        "  - $2.50/hour\n",
        "\n",
        "  - minimum fee is $6.00\n",
        "\n",
        "  - maximum fee is $20.00\n",
        "- Print the result\n",
        "\n",
        "For your program, define and use the following two functions:\n",
        "```python\n",
        "# use input() to prompt for the # of hours parked, return this value\n",
        "def getParkingHours()\n",
        "\n",
        "# takes as input hours (a number), returns the parking fee\n",
        "def calcParkingFee()\n",
        "```"
      ],
      "metadata": {
        "id": "GjaUFrnfpKFf"
      }
    },
    {
      "cell_type": "code",
      "source": [
        "def getParkingHours():\n",
        "    print(\"Please enter the number of hours parked:\")\n",
        "    return float(input())\n",
        "\n",
        "def calcParkingFee(hours):\n",
        "    fee = 2.5 * hours\n",
        "    if (fee < 6):\n",
        "        fee = 6\n",
        "    elif (fee > 20):\n",
        "        fee = 20\n",
        "    return fee\n",
        "\n",
        "def main():\n",
        "    print(f\"Parking Fee: $\",calcParkingFee(getParkingHours()))\n",
        "\n",
        "main()"
      ],
      "metadata": {
        "id": "5ha4O3V5pwNN",
        "colab": {
          "base_uri": "https://localhost:8080/"
        },
        "outputId": "bfcb7d4b-ce2e-408e-da01-f3bf79417523"
      },
      "execution_count": null,
      "outputs": [
        {
          "output_type": "stream",
          "name": "stdout",
          "text": [
            "Please enter the number of hours parked:\n",
            "1\n",
            "Parking Fee: $ 6\n"
          ]
        }
      ]
    },
    {
      "cell_type": "markdown",
      "source": [
        "## Assignment 4: Tuition (6 points)\n",
        "\n",
        "A college charges tuition according to the following:\n",
        "- 12 or more credits: $20,000/semester\n",
        "\n",
        "- 1-11 credits: $1,200 + $1,700 per credit\n",
        "\n",
        "Write a program that prompts the user for a number of credits and determines and displays the tuition for the semester. As part of your program, define and use the following function:\n",
        "```python\n",
        "def calcTuition(credits)\n",
        "```\n",
        "The function returns the tuition for a given number of credits"
      ],
      "metadata": {
        "id": "gipBObe5qm-2"
      }
    },
    {
      "cell_type": "code",
      "source": [
        "def calcTuition(credits):\n",
        "    if (credits >= 12):\n",
        "        return 20000\n",
        "    elif(credits >= 1):\n",
        "        return 1200 + 1700 * credits\n",
        "    else:\n",
        "        return 0\n",
        "\n",
        "def main():\n",
        "  print(\"Please enter the number of credits:\")\n",
        "  print(f'Tuition: $', calcTuition(int(input())))\n",
        "\n",
        "main()"
      ],
      "metadata": {
        "id": "BPcn9ywzrL8y",
        "colab": {
          "base_uri": "https://localhost:8080/"
        },
        "outputId": "158c0681-177e-487e-ccd3-fa97825c2a2a"
      },
      "execution_count": null,
      "outputs": [
        {
          "output_type": "stream",
          "name": "stdout",
          "text": [
            "Please enter the number of credits:\n",
            "2\n",
            "Tuition: $ 4600\n"
          ]
        }
      ]
    }
  ]
}