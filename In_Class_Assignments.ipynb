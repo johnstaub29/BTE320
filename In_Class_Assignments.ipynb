{
  "nbformat": 4,
  "nbformat_minor": 0,
  "metadata": {
    "colab": {
      "provenance": [],
      "authorship_tag": "ABX9TyPYc77k6JbKho34OWaQO9Qr",
      "include_colab_link": true
    },
    "kernelspec": {
      "name": "python3",
      "display_name": "Python 3"
    },
    "language_info": {
      "name": "python"
    }
  },
  "cells": [
    {
      "cell_type": "markdown",
      "metadata": {
        "id": "view-in-github",
        "colab_type": "text"
      },
      "source": [
        "<a href=\"https://colab.research.google.com/github/johnstaub29/BTE320/blob/main/In_Class_Assignments.ipynb\" target=\"_parent\"><img src=\"https://colab.research.google.com/assets/colab-badge.svg\" alt=\"Open In Colab\"/></a>"
      ]
    },
    {
      "cell_type": "markdown",
      "source": [
        "Cylinder Area Calculator"
      ],
      "metadata": {
        "id": "24GzNJpW7K9h"
      }
    },
    {
      "cell_type": "code",
      "source": [
        "pi = 3.14\n",
        "radius = float(input('Enter radius: '))\n",
        "height = float(input('Enter height: '))\n",
        "area = (2 * pi * (radius ** 2)) + (2 * pi * radius * height)\n",
        "\n",
        "print(f'Area of cylindee: = {area} sp. ft')"
      ],
      "metadata": {
        "id": "jMO5QoO3cGfP",
        "colab": {
          "base_uri": "https://localhost:8080/"
        },
        "outputId": "6a12f8f8-a513-409c-c104-60f1ffa4ca57"
      },
      "execution_count": 37,
      "outputs": [
        {
          "output_type": "stream",
          "name": "stdout",
          "text": [
            "Enter radius: 5\n",
            "Enter height: 5\n",
            "Area of cylindee: = 314.0 sp. ft\n"
          ]
        }
      ]
    },
    {
      "cell_type": "markdown",
      "source": [
        "Numerical Calculator"
      ],
      "metadata": {
        "id": "IOAZ5uTF7O5V"
      }
    },
    {
      "cell_type": "code",
      "execution_count": 36,
      "metadata": {
        "id": "ijatRQcjVzNM",
        "colab": {
          "base_uri": "https://localhost:8080/"
        },
        "outputId": "9c0f83f9-06a0-4751-d10a-7172f6723143"
      },
      "outputs": [
        {
          "output_type": "stream",
          "name": "stdout",
          "text": [
            "Enter n1: 1\n",
            "Enter n2: 2\n",
            "Enter op: +\n",
            "1.0 + 2.0 = 3.0\n"
          ]
        }
      ],
      "source": [
        "\n",
        "from types import resolve_bases\n",
        "n1 = float(input('Enter n1: '))\n",
        "n2 = float(input('Enter n2: '))\n",
        "op = input('Enter op: ')\n",
        "\n",
        "if op == '+':\n",
        "  res = (n1 + n2)\n",
        "elif op == '-':\n",
        "  res = (n1 - n2)\n",
        "elif op == '*':\n",
        "  res = (n1 * n2)\n",
        "elif op == '/':\n",
        "  res = (n1 / n2)\n",
        "elif op == '//':\n",
        "  res = (n1 // n2)\n",
        "elif op == '%':\n",
        "  res = (n1 % n2)\n",
        "elif op == '**':\n",
        "  res = (n1 ** n2)\n",
        "else:\n",
        "  res = ('Invalid operator')\n",
        "\n",
        "print(f'{n1} {op} {n2} = {res}')\n"
      ]
    },
    {
      "cell_type": "markdown",
      "source": [
        "Parking Garage"
      ],
      "metadata": {
        "id": "cOPTKnkz7Q5O"
      }
    },
    {
      "cell_type": "code",
      "source": [
        "for numberHours in range(1, 9):\n",
        "  fee = 5 + 2.5 * numberHours\n",
        "  if fee < 10:\n",
        "    fee = 10.0\n",
        "  elif fee > 20:\n",
        "    fee = 20.0\n",
        "  print(numberHours, fee)"
      ],
      "metadata": {
        "id": "Us7z47P7ubs_",
        "colab": {
          "base_uri": "https://localhost:8080/"
        },
        "outputId": "bb4e4729-120f-4966-ab00-0c6dc79b4f55"
      },
      "execution_count": 35,
      "outputs": [
        {
          "output_type": "stream",
          "name": "stdout",
          "text": [
            "1 10.0\n",
            "2 10.0\n",
            "3 12.5\n",
            "4 15.0\n",
            "5 17.5\n",
            "6 20.0\n",
            "7 20.0\n",
            "8 20.0\n"
          ]
        }
      ]
    },
    {
      "cell_type": "markdown",
      "source": [
        "Movie Theater"
      ],
      "metadata": {
        "id": "Dxhcr9hq7TZo"
      }
    },
    {
      "cell_type": "code",
      "source": [
        "print('Ad$\\t', 'Profit')\n",
        "for adMoney in range (0, 201, 25):\n",
        "  revenue = (20 + 2 * round(adMoney ** 0.5)) * 10\n",
        "  costs = 200 + adMoney\n",
        "  profit = revenue - costs\n",
        "  print(adMoney, '\\t', profit)"
      ],
      "metadata": {
        "id": "vogKfz0ywZq5",
        "colab": {
          "base_uri": "https://localhost:8080/"
        },
        "outputId": "b856e4cd-c409-4e02-e061-738bdc541949"
      },
      "execution_count": 34,
      "outputs": [
        {
          "output_type": "stream",
          "name": "stdout",
          "text": [
            "Ad$\t Profit\n",
            "0 \t 0\n",
            "25 \t 75\n",
            "50 \t 90\n",
            "75 \t 105\n",
            "100 \t 100\n",
            "125 \t 95\n",
            "150 \t 90\n",
            "175 \t 85\n",
            "200 \t 80\n"
          ]
        }
      ]
    },
    {
      "cell_type": "markdown",
      "source": [
        "Rock Paper Scissors"
      ],
      "metadata": {
        "id": "0x8MwEky7Vd6"
      }
    },
    {
      "cell_type": "code",
      "source": [
        "import random\n",
        "x = \"yes\"\n",
        "while x == \"yes\":\n",
        "  player = input(\"rock, paper, or scissors: \")\n",
        "  while player != \"rock\" and player != \"paper\" and player != \"scissors\":\n",
        "    player = input(\"rock, paper, or scissors: \")\n",
        "  ai = random.choice([\"rock\", \"paper\", \"scissors\"])\n",
        "  print('AI choice: ', ai)\n",
        "  if ((player == \"rock\" and ai == \"scissors\") or (player == \"scissors\" and ai == \"paper\") or (player == \"paper\" and ai == \"rock\")):\n",
        "    print(\"You Win!\")\n",
        "  elif ((player == \"rock\" and ai == \"paper\") or (player == \"scissors\" and ai == \"rock\") or (player == \"paper\" and ai == \"scissors\")):\n",
        "    print(\"You Lose!\")\n",
        "  else:\n",
        "    print(\"It's a tie!\")\n",
        "  x = input(\"Do you want to play again? (yes/no) \")\n",
        "  while x != \"yes\" and x != \"no\":\n",
        "    x = input(\"Do you want to play again? \")"
      ],
      "metadata": {
        "id": "hhTueuQjX6uH",
        "colab": {
          "base_uri": "https://localhost:8080/"
        },
        "outputId": "241cf28a-ded2-48d2-8b54-1d7fdb7a5249"
      },
      "execution_count": 33,
      "outputs": [
        {
          "name": "stdout",
          "output_type": "stream",
          "text": [
            "rock, paper, or scissors: rock\n",
            "AI choice:  paper\n",
            "You Lose!\n",
            "Do you want to play again? (yes/no) no\n"
          ]
        }
      ]
    },
    {
      "cell_type": "markdown",
      "source": [
        "Append Items to List Iteratively"
      ],
      "metadata": {
        "id": "87zrvgq37p-Z"
      }
    },
    {
      "cell_type": "code",
      "source": [
        "lst = []\n",
        "\n",
        "while True:\n",
        "  num = float(input('Give a number: '))\n",
        "  if num == 0.0:\n",
        "    break\n",
        "  lst.append(num)\n",
        "lst.sort(reverse=True)\n",
        "lst\n"
      ],
      "metadata": {
        "id": "sQ07OGgucUML",
        "colab": {
          "base_uri": "https://localhost:8080/"
        },
        "outputId": "66cd3107-6f7b-495e-be36-ab32cbfd54f7"
      },
      "execution_count": null,
      "outputs": [
        {
          "name": "stdout",
          "output_type": "stream",
          "text": [
            "Give a number: 1\n",
            "Give a number: 2\n",
            "Give a number: 5\n",
            "Give a number: 1\n",
            "Give a number: 0\n"
          ]
        },
        {
          "output_type": "execute_result",
          "data": {
            "text/plain": [
              "[5.0, 2.0, 1.0, 1.0]"
            ]
          },
          "metadata": {},
          "execution_count": 5
        }
      ]
    },
    {
      "cell_type": "markdown",
      "source": [
        "Dynamic Dictionary of Number : Month Pairs"
      ],
      "metadata": {
        "id": "HRryYXS37sid"
      }
    },
    {
      "cell_type": "code",
      "source": [
        "months = {}\n",
        "names = [\"Jan\", \"Feb\", \"Mar\", \"Apr\", \"May\", \"Jun\", \"Jul\", \"Aug\", \"Sep\", \"Oct\", \"Nov\", \"Dec\"]\n",
        "numbers = [1, 2, 3, 4, 5, 6, 7, 8, 9, 10, 11, 12]\n",
        "\n",
        "for num in numbers:\n",
        "  months[num] = names[num-1]\n",
        "months"
      ],
      "metadata": {
        "colab": {
          "base_uri": "https://localhost:8080/"
        },
        "id": "ky_TCnBExUw2",
        "outputId": "9096a1de-6a76-418d-c9ef-9c0d5fe7bafd"
      },
      "execution_count": null,
      "outputs": [
        {
          "output_type": "execute_result",
          "data": {
            "text/plain": [
              "{1: 'Jan',\n",
              " 2: 'Feb',\n",
              " 3: 'Mar',\n",
              " 4: 'Apr',\n",
              " 5: 'May',\n",
              " 6: 'Jun',\n",
              " 7: 'Jul',\n",
              " 8: 'Aug',\n",
              " 9: 'Sep',\n",
              " 10: 'Oct',\n",
              " 11: 'Nov',\n",
              " 12: 'Dec'}"
            ]
          },
          "metadata": {},
          "execution_count": 3
        }
      ]
    },
    {
      "cell_type": "markdown",
      "source": [
        "Dynamic Dictionary; 5 Distinct Key : Value Pairs"
      ],
      "metadata": {
        "id": "vCd_akU57u0j"
      }
    },
    {
      "cell_type": "code",
      "source": [
        "counts = {}\n",
        "\n",
        "while len(counts) < 5:\n",
        "  key = input(\"Enter a string: \")\n",
        "  if key not in counts:\n",
        "    counts[key] = 1\n",
        "  else:\n",
        "    counts[key] += 1\n",
        "counts"
      ],
      "metadata": {
        "colab": {
          "base_uri": "https://localhost:8080/"
        },
        "id": "Zllk7yVNyOwD",
        "outputId": "0982e946-52f0-4068-ad09-4960af3100a7"
      },
      "execution_count": 32,
      "outputs": [
        {
          "name": "stdout",
          "output_type": "stream",
          "text": [
            "Enter a string: 1\n",
            "Enter a string: 4\n",
            "Enter a string: 3\n",
            "Enter a string: 2\n",
            "Enter a string: 1\n",
            "Enter a string: 4\n",
            "Enter a string: 3\n",
            "Enter a string: 2\n",
            "Enter a string: 1\n",
            "Enter a string: 23\n"
          ]
        },
        {
          "output_type": "execute_result",
          "data": {
            "text/plain": [
              "{'1': 3, '4': 2, '3': 2, '2': 2, '23': 1}"
            ]
          },
          "metadata": {},
          "execution_count": 32
        }
      ]
    },
    {
      "cell_type": "markdown",
      "source": [
        "Parking Garage: calcFee Function"
      ],
      "metadata": {
        "id": "sBc00May7zWK"
      }
    },
    {
      "cell_type": "code",
      "source": [
        "def calcFee(hours):\n",
        "  fee = hours * 2.50 + 5\n",
        "  if fee < 10:\n",
        "    fee = 10.0\n",
        "  elif fee > 20:\n",
        "    fee = 20.0\n",
        "  print(f'Fee: ${fee}')\n",
        "numHours = float(input('Enter hours: '))\n",
        "calcFee(numHours)"
      ],
      "metadata": {
        "colab": {
          "base_uri": "https://localhost:8080/"
        },
        "id": "w2BlKUDK1GH1",
        "outputId": "b9c790cf-d42f-42f4-9963-ccb1d8e139d9"
      },
      "execution_count": null,
      "outputs": [
        {
          "output_type": "stream",
          "name": "stdout",
          "text": [
            "Enter hours: 4\n",
            "Fee: $15.0\n"
          ]
        }
      ]
    },
    {
      "cell_type": "markdown",
      "source": [
        "Reverse String"
      ],
      "metadata": {
        "id": "dytbXRun72sc"
      }
    },
    {
      "cell_type": "code",
      "source": [
        "def reverse(s):\n",
        "  if len(s) <= 1:\n",
        "    return s\n",
        "  else:\n",
        "    return s[-1] + reverse(s[:-1])\n",
        "reverse('Hello World')"
      ],
      "metadata": {
        "colab": {
          "base_uri": "https://localhost:8080/",
          "height": 35
        },
        "id": "SB1ajzm7dUon",
        "outputId": "0effd150-aa11-4420-ab01-d17fc7834845"
      },
      "execution_count": 31,
      "outputs": [
        {
          "output_type": "execute_result",
          "data": {
            "text/plain": [
              "'dlroW olleH'"
            ],
            "application/vnd.google.colaboratory.intrinsic+json": {
              "type": "string"
            }
          },
          "metadata": {},
          "execution_count": 31
        }
      ]
    },
    {
      "cell_type": "markdown",
      "source": [
        "Parking garage Modified"
      ],
      "metadata": {
        "id": "GbqhP5Z_8XM4"
      }
    },
    {
      "cell_type": "code",
      "source": [
        "def calcFee(hours):\n",
        "  assert hours >= 0, \"The number of hours should be non-negative...\"\n",
        "  fee = 5 + 2.5 * hours\n",
        "  if fee < 10:\n",
        "    fee = 10.0\n",
        "  elif fee > 20:\n",
        "    fee = 20.0\n",
        "  print(f'Fee: {fee}$')\n",
        "\n",
        "\n",
        "def main():\n",
        "  try:\n",
        "    numHours = int(input('Enter number of hours: '))\n",
        "    calcFee(numHours)\n",
        "  except ValueError:\n",
        "    print('Cannot cast to int().')\n",
        "  #except:\n",
        "  #  print('Unknown error...')\n",
        "\n",
        "if __name__ == \"__main__\":\n",
        "  main()\n",
        "\n"
      ],
      "metadata": {
        "id": "XALGO81VKcDA",
        "colab": {
          "base_uri": "https://localhost:8080/"
        },
        "outputId": "cf3c164d-c533-4e45-fa0b-b36faa98cfec"
      },
      "execution_count": 29,
      "outputs": [
        {
          "output_type": "stream",
          "name": "stdout",
          "text": [
            "Enter number of hours: 2\n",
            "Fee: 10.0$\n"
          ]
        }
      ]
    },
    {
      "cell_type": "markdown",
      "source": [
        "1st question of Assignment II using exception handling"
      ],
      "metadata": {
        "id": "xVhQDuIAAhLU"
      }
    },
    {
      "cell_type": "code",
      "source": [
        "def getValues(n):\n",
        "  L = []\n",
        "  for i in range(n):\n",
        "    weight = float(input('Enter weight: '))\n",
        "    L.append(weight)\n",
        "  return L\n",
        "\n",
        "def calcAverage(alist):\n",
        "  try:\n",
        "    print(f'The average weight is: {sum(alist[2:]) / len(alist[2:])}')\n",
        "  except ZeroDivisionError:\n",
        "    print(f'List {alist} is empty!')\n",
        "\n",
        "if __name__ == \"__main__\":\n",
        "  try:\n",
        "    n = int(input('Enter size of list: '))\n",
        "    alist = getValues(n)\n",
        "    calcAverage(alist)\n",
        "  except ValueError:\n",
        "    print('Input cannot be casted as an int()')"
      ],
      "metadata": {
        "colab": {
          "base_uri": "https://localhost:8080/"
        },
        "id": "QfaA3mIpAg4U",
        "outputId": "98adce2b-f3d3-4a5d-edcc-b8159be85c34"
      },
      "execution_count": 26,
      "outputs": [
        {
          "output_type": "stream",
          "name": "stdout",
          "text": [
            "Enter size of list: 3\n",
            "Enter weight: 12\n",
            "Enter weight: 2\n",
            "Enter weight: 3\n",
            "The average weight is: 3.0\n"
          ]
        }
      ]
    },
    {
      "cell_type": "markdown",
      "source": [
        "Greeting Class"
      ],
      "metadata": {
        "id": "gXeV1kFf8eip"
      }
    },
    {
      "cell_type": "code",
      "source": [
        "class Greeting:\n",
        "  def __init__(self, first, last):\n",
        "    self.first = first\n",
        "    self.last = last\n",
        "  def display(self, formal=False):\n",
        "    if formal:\n",
        "      print(f'Hi {self.first} {self.last}')\n",
        "    else:\n",
        "      print(f'Hi {self.first}')\n",
        "\n",
        "  def __str__(self):\n",
        "    return \"{}, {}\".format(self.first, self.last)\n",
        "    return f'{self.first}, {self.last}'\n",
        "    return str(self.first) + \", \" + str(self.last)\n",
        "\n",
        "greeting = Greeting('Donald', 'Becker')\n",
        "greeting2 = Greeting('Bob', 'Dylan')\n",
        "greeting.display(formal=True)\n",
        "print(greeting)\n",
        "print(greeting2)"
      ],
      "metadata": {
        "id": "3VrMW1QvLlz1",
        "colab": {
          "base_uri": "https://localhost:8080/"
        },
        "outputId": "8e4e28be-9554-4a0a-c94e-df8538755db9"
      },
      "execution_count": 20,
      "outputs": [
        {
          "output_type": "stream",
          "name": "stdout",
          "text": [
            "Hi Donald Becker\n",
            "Donald, Becker\n",
            "Bob, Dylan\n"
          ]
        }
      ]
    },
    {
      "cell_type": "markdown",
      "source": [
        "Student Class"
      ],
      "metadata": {
        "id": "73Ux0dxs8gnf"
      }
    },
    {
      "cell_type": "code",
      "source": [
        "class Student:\n",
        "  def __init__(self, name, number):\n",
        "    self.name = name\n",
        "    self.__number = number\n",
        "    self.__courses = []\n",
        "\n",
        "  def enroll(self, course):\n",
        "    if course in self.__courses:\n",
        "      print(f'You have already enrolled in {course}')\n",
        "    else:\n",
        "      self.__courses.append(course)\n",
        "\n",
        "  def get_courses(self):\n",
        "    return self.__courses\n",
        "\n",
        "s1= Student('Bob',100)\n",
        "s2= Student('Alice',101)\n",
        "print(s1.name, s2.name)\n",
        "\n",
        "s1.enroll('BTE320')\n",
        "s1.enroll('BTE422')\n",
        "s1.get_courses()\n"
      ],
      "metadata": {
        "id": "Z3oO009bLv9s",
        "colab": {
          "base_uri": "https://localhost:8080/"
        },
        "outputId": "d005d225-ecf0-46cc-8bfa-79f4cf2d74b8"
      },
      "execution_count": 21,
      "outputs": [
        {
          "output_type": "stream",
          "name": "stdout",
          "text": [
            "Bob Alice\n"
          ]
        },
        {
          "output_type": "execute_result",
          "data": {
            "text/plain": [
              "['BTE320', 'BTE422']"
            ]
          },
          "metadata": {},
          "execution_count": 21
        }
      ]
    },
    {
      "cell_type": "markdown",
      "source": [
        "Class Point"
      ],
      "metadata": {
        "id": "1iAbk87m8i78"
      }
    },
    {
      "cell_type": "code",
      "source": [
        "import math\n",
        "\n",
        "class Point:\n",
        "  def __init__(self, x, y):\n",
        "    self.x = x\n",
        "    self.y = y\n",
        "\n",
        "  def distance(self, other):\n",
        "    dx = (self.x - other.x) ** 2\n",
        "    dy = (self.y - other.y) ** 2\n",
        "    dist = math.sqrt(dx + dy)\n",
        "    return dist\n",
        "\n",
        "p1 = Point(4,8)\n",
        "p2 = Point(1,4)\n",
        "p1.distance(p2)\n",
        "\n"
      ],
      "metadata": {
        "id": "O4Lr46xls_6c",
        "colab": {
          "base_uri": "https://localhost:8080/"
        },
        "outputId": "c9289997-8c3f-4445-daaf-615b4d56e19a"
      },
      "execution_count": 6,
      "outputs": [
        {
          "output_type": "execute_result",
          "data": {
            "text/plain": [
              "5.0"
            ]
          },
          "metadata": {},
          "execution_count": 6
        }
      ]
    },
    {
      "cell_type": "markdown",
      "source": [
        "Class Rectangle"
      ],
      "metadata": {
        "id": "JLpwbDoz8k8U"
      }
    },
    {
      "cell_type": "code",
      "source": [
        "class Rectangle:\n",
        "  def __init__(self):\n",
        "    self.c1 = Point(0, 0)\n",
        "    self.c2 = Point(0, 2)\n",
        "    self.c3 = Point(2, 0)\n",
        "    self.c4 = Point(2, 2)\n",
        "    self.width = self.calculate_width()\n",
        "    self.length = self.calculate_length()\n",
        "\n",
        "  def calculate_width(self):\n",
        "    return self.c1.distance (self.c3)\n",
        "\n",
        "  def calculate_length(self):\n",
        "    return self.c1.distance (self.c2)\n",
        "\n",
        "  def area(self):\n",
        "    return f'Area = {self.width * self.length} sq ft.'\n",
        "\n",
        "\n",
        "square = Rectangle()\n",
        "square.area()\n",
        "\n"
      ],
      "metadata": {
        "colab": {
          "base_uri": "https://localhost:8080/",
          "height": 35
        },
        "id": "NJ-wIg7v9Sux",
        "outputId": "aae8c1a4-8b49-4519-eda3-5ef8e7690241"
      },
      "execution_count": 7,
      "outputs": [
        {
          "output_type": "execute_result",
          "data": {
            "text/plain": [
              "'Area = 4.0 sq ft.'"
            ],
            "application/vnd.google.colaboratory.intrinsic+json": {
              "type": "string"
            }
          },
          "metadata": {},
          "execution_count": 7
        }
      ]
    }
  ]
}